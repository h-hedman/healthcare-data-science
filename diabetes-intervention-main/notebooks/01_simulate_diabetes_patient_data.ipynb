{
 "cells": [
  {
   "cell_type": "code",
   "execution_count": null,
   "id": "cac93081-564e-4ed7-95d8-65e5d65d78c9",
   "metadata": {},
   "outputs": [],
   "source": [
    "# Author: Hayden Hedman\n",
    "# Purpose: Simulate panel data for diabetes treatment impact study\n",
    "# Date: 2025-02-10"
   ]
  },
  {
   "cell_type": "code",
   "execution_count": 9,
   "id": "89146ff7-7024-438d-a3bf-0dae38a66f7e",
   "metadata": {},
   "outputs": [],
   "source": [
    "# Imports and setup\n",
    "import numpy as np\n",
    "import pandas as pd\n",
    "import os"
   ]
  },
  {
   "cell_type": "code",
   "execution_count": 15,
   "id": "da3660f7-5dfb-447b-970f-fe074f2ac26b",
   "metadata": {},
   "outputs": [],
   "source": [
    "# Define panel simulation function for creating simulated patient data\n",
    "def simulate_diabetes_panel(n_patients=7528, n_months=144, seed=64):\n",
    "    np.random.seed(seed)\n",
    "    ids = np.arange(1, n_patients + 1)\n",
    "\n",
    "    age = np.random.normal(68, 10, n_patients).astype(int)\n",
    "    sex = np.random.binomial(1, 0.5, n_patients)\n",
    "    comorb_idx = np.random.poisson(1, n_patients)\n",
    "    comorbidities = np.random.binomial(1, 0.3, size=(n_patients, 5))\n",
    "\n",
    "    rows = []\n",
    "    for pid, a, s, c, comorbs in zip(ids, age, sex, comorb_idx, comorbidities):\n",
    "        start = np.random.choice(list(range(12, 48)) + [999], p=[0.02]*36 + [0.28])\n",
    "        baseline_a1c = np.random.normal(8, 1)\n",
    "        treated_group = int(start < 999)\n",
    "        tx_effect = -0.3 + np.random.normal(0, 0.05)\n",
    "\n",
    "        for t in range(n_months):\n",
    "            treat = int(t >= start and start < 999)\n",
    "            months_since_tx = t - start if start < 999 else 0\n",
    "            a1c = baseline_a1c + (tx_effect * max(0, months_since_tx)) + np.random.normal(0, 0.5)\n",
    "            hosp = np.random.binomial(1, 0.02 + 0.01 * (1 - treat))\n",
    "            post_treatment = int(treat)\n",
    "            time_since_tx = months_since_tx\n",
    "            cohort_month = t\n",
    "\n",
    "            rows.append([\n",
    "                pid, t, a, s, c, *comorbs, treat, baseline_a1c,\n",
    "                a1c, hosp, start, treated_group, post_treatment,\n",
    "                time_since_tx, cohort_month\n",
    "            ])\n",
    "\n",
    "    columns = [\n",
    "        \"patient_id\", \"month\", \"age\", \"sex\", \"comorb_idx\",\n",
    "        \"hypertension\", \"copd\", \"ckd\", \"depression\", \"obesity\",\n",
    "        \"treat\", \"baseline_a1c\", \"a1c\", \"hosp\", \"start_month\",\n",
    "        \"treated_group\", \"post_treatment\", \"time_since_tx\", \"cohort_month\"\n",
    "    ]\n",
    "\n",
    "    return pd.DataFrame(rows, columns=columns)"
   ]
  },
  {
   "cell_type": "code",
   "execution_count": 16,
   "id": "f6686e45-9ee2-4f38-aec5-5e492f750251",
   "metadata": {},
   "outputs": [
    {
     "name": "stdout",
     "output_type": "stream",
     "text": [
      "Confirmed: simulated diabetes patient dataset saved to: C:\\Users\\hayde\\Desktop\\diabetes\\data\\simulated_diabetes_patient_data.csv\n"
     ]
    }
   ],
   "source": [
    "# Automate simulated data \n",
    "# automate pulling data directory above in root /data folder\n",
    "project_root = os.path.abspath(os.path.join(os.getcwd(), os.pardir))\n",
    "\n",
    "# Now define the shared data directory from project root\n",
    "data_dir = os.path.join(project_root, \"data\")\n",
    "os.makedirs(data_dir, exist_ok=True)\n",
    "\n",
    "# Simulate data\n",
    "df = simulate_diabetes_panel()\n",
    "\n",
    "# Full save path\n",
    "save_path = os.path.join(data_dir, \"simulated_diabetes_patient_data.csv\")\n",
    "df.to_csv(save_path, index=False)\n",
    "\n",
    "print(f\"Confirmed: simulated diabetes patient dataset saved to: {save_path}\")\n"
   ]
  },
  {
   "cell_type": "code",
   "execution_count": null,
   "id": "d94dca84-e036-41e0-aece-2c2243e754c7",
   "metadata": {},
   "outputs": [],
   "source": []
  }
 ],
 "metadata": {
  "kernelspec": {
   "display_name": "Python [conda env:base] *",
   "language": "python",
   "name": "conda-base-py"
  },
  "language_info": {
   "codemirror_mode": {
    "name": "ipython",
    "version": 3
   },
   "file_extension": ".py",
   "mimetype": "text/x-python",
   "name": "python",
   "nbconvert_exporter": "python",
   "pygments_lexer": "ipython3",
   "version": "3.12.3"
  }
 },
 "nbformat": 4,
 "nbformat_minor": 5
}
