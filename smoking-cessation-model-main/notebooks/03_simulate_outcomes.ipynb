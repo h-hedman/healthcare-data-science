{
 "cells": [
  {
   "cell_type": "code",
   "execution_count": 5,
   "id": "c4067869-5176-4ac9-8aae-e9dd370cd961",
   "metadata": {},
   "outputs": [
    {
     "name": "stdout",
     "output_type": "stream",
     "text": [
      "Loaded 9839 records.\n",
      "Confirmed: final cohort with quit outcome saved to: C:\\Users\\hayde\\Desktop\\simulated-smoking-cessation-cohort\\data\\final_simulated_smoking_cessation_cohort.csv\n",
      "                         Results: Logit\n",
      "=================================================================\n",
      "Model:              Logit            Method:           MLE       \n",
      "Dependent Variable: quit_successful  Pseudo R-squared: 0.047     \n",
      "Date:               2025-08-15 20:35 AIC:              2369.2455 \n",
      "No. Observations:   1968             BIC:              2397.1694 \n",
      "Df Model:           4                Log-Likelihood:   -1179.6   \n",
      "Df Residuals:       1963             LL-Null:          -1237.6   \n",
      "Converged:          1.0000           LLR p-value:      3.9159e-24\n",
      "No. Iterations:     5.0000           Scale:            1.0000    \n",
      "-----------------------------------------------------------------\n",
      "                   Coef.  Std.Err.    z    P>|z|   [0.025  0.975]\n",
      "-----------------------------------------------------------------\n",
      "const             -1.2455   0.2160 -5.7654 0.0000 -1.6689 -0.8221\n",
      "education_code     0.1666   0.0359  4.6348 0.0000  0.0961  0.2370\n",
      "income_code        0.1989   0.0372  5.3460 0.0000  0.1260  0.2718\n",
      "age               -0.0108   0.0040 -2.6821 0.0073 -0.0187 -0.0029\n",
      "intervention       0.7405   0.1000  7.4039 0.0000  0.5445  0.9366\n",
      "=================================================================\n",
      "\n",
      "Model summary saved to: C:\\Users\\hayde\\Desktop\\simulated-smoking-cessation-cohort\\results\\model_summary.txt\n"
     ]
    }
   ],
   "source": [
    "# Load libraries\n",
    "import pandas as pd\n",
    "import numpy as np\n",
    "from pathlib import Path\n",
    "from scipy.special import expit\n",
    "import statsmodels.api as sm"
   ]
  },
  {
   "cell_type": "code",
   "execution_count": null,
   "id": "aeed1305-846e-4877-95fc-10c4b7eb273d",
   "metadata": {},
   "outputs": [],
   "source": [
    "# Set paths\n",
    "ROOT = Path().resolve().parent\n",
    "DATA_DIR = ROOT / \"data\"\n",
    "RESULTS_DIR = ROOT / \"results\"\n",
    "RESULTS_DIR.mkdir(exist_ok=True)\n",
    "\n",
    "# Load processed dataset\n",
    "df = pd.read_csv(DATA_DIR / \"processed_simulated_smoking_cessation_cohort.csv\")\n",
    "print(f\"Loaded {df.shape[0]} records.\")"
   ]
  },
  {
   "cell_type": "code",
   "execution_count": null,
   "id": "4404b720-0819-4ac6-868a-292f1da9be91",
   "metadata": {},
   "outputs": [],
   "source": [
    "# Only simulate outcome for baseline smokers\n",
    "df[\"eligible_for_quit\"] = df[\"baseline_smoker\"] == 1\n",
    "\n",
    "# Base log-odds of quitting\n",
    "log_odds = -1.8  # ~14% base quit rate\n",
    "\n",
    "# Boost from intervention\n",
    "log_odds += (df[\"intervention_group\"] == \"Cessation Program\") * 0.8\n",
    "\n",
    "# Boost from education (scaled 0–5)\n",
    "log_odds += df[\"education_code\"] * 0.2\n",
    "\n",
    "# Boost from income (scaled 0–4)\n",
    "log_odds += df[\"income_code\"] * 0.2\n",
    "\n",
    "# Age penalty\n",
    "log_odds += np.where(df[\"age\"] < 30, 0.3, 0)\n",
    "log_odds += np.where(df[\"age\"] > 65, -0.3, 0)\n",
    "\n",
    "# Add random noise\n",
    "log_odds += np.random.normal(0, 0.5, size=df.shape[0])\n",
    "\n",
    "# Convert to probability (logistic)\n",
    "quit_prob = expit(log_odds)"
   ]
  },
  {
   "cell_type": "code",
   "execution_count": null,
   "id": "4d941fd8-7892-4c72-8a6a-7a33f8a0ed73",
   "metadata": {},
   "outputs": [],
   "source": [
    "# Simulate quit outcome only for smokers\n",
    "df[\"quit_successful\"] = 0\n",
    "smoker_idx = df[\"eligible_for_quit\"]\n",
    "df.loc[smoker_idx, \"quit_successful\"] = np.random.binomial(1, quit_prob[smoker_idx])\n",
    "\n",
    "# Drop helper column\n",
    "df.drop(columns=[\"eligible_for_quit\"], inplace=True)\n",
    "\n",
    "# Save final simulated dataset\n",
    "output_path = DATA_DIR / \"final_simulated_smoking_cessation_cohort.csv\"\n",
    "df.to_csv(output_path, index=False)\n",
    "print(f\"Confirmed: final cohort with quit outcome saved to: {output_path}\")"
   ]
  },
  {
   "cell_type": "code",
   "execution_count": null,
   "id": "f68669c8-c2d8-47ed-8150-b0fc02e6afd5",
   "metadata": {},
   "outputs": [],
   "source": [
    "# -------------------------------------------------------------------------\n",
    "# Model: Predict quit_successful among baseline smokers \n",
    "# -------------------------------------------------------------------------\n",
    "model_df = df[df[\"baseline_smoker\"] == 1].copy()\n",
    "\n",
    "# Define predictors\n",
    "X = model_df[[\"education_code\", \"income_code\", \"age\"]].copy()\n",
    "X[\"intervention\"] = (model_df[\"intervention_group\"] == \"Cessation Program\").astype(int)\n",
    "X = sm.add_constant(X)\n",
    "\n",
    "# Define outcome\n",
    "y = model_df[\"quit_successful\"]\n",
    "\n",
    "# Fit logistic regression\n",
    "logit_model = sm.Logit(y, X).fit(disp=False)\n",
    "\n",
    "# Print summary in notebook\n",
    "print(logit_model.summary2())\n",
    "\n",
    "# Save summary to file\n",
    "summary_path = RESULTS_DIR / \"model_summary.txt\"\n",
    "with open(summary_path, \"w\") as f:\n",
    "    f.write(logit_model.summary2().as_text())\n",
    "\n",
    "print(f\"Model summary saved to: {summary_path}\")"
   ]
  }
 ],
 "metadata": {
  "kernelspec": {
   "display_name": "Python [conda env:base] *",
   "language": "python",
   "name": "conda-base-py"
  },
  "language_info": {
   "codemirror_mode": {
    "name": "ipython",
    "version": 3
   },
   "file_extension": ".py",
   "mimetype": "text/x-python",
   "name": "python",
   "nbconvert_exporter": "python",
   "pygments_lexer": "ipython3",
   "version": "3.12.3"
  }
 },
 "nbformat": 4,
 "nbformat_minor": 5
}
