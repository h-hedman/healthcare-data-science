{
 "cells": [
  {
   "cell_type": "code",
   "execution_count": 1,
   "id": "65145a22-6632-4a11-825c-1482e7e5637f",
   "metadata": {},
   "outputs": [
    {
     "name": "stdout",
     "output_type": "stream",
     "text": [
      "Loaded 10000 rows.\n",
      "Remaining after age filter: 9839\n",
      "Saved cleaned dataset to: C:\\Users\\hayde\\Desktop\\simulated-smoking-cessation-cohort\\data\\processed_simulated_smoking_cessation_cohort.csv\n"
     ]
    }
   ],
   "source": [
    "# 02_prepare_dataset.ipynb\n",
    "\n",
    "import pandas as pd\n",
    "import numpy as np\n",
    "from pathlib import Path\n",
    "\n",
    "# Set paths\n",
    "ROOT = Path().resolve().parent\n",
    "DATA_DIR = ROOT / \"data\"\n",
    "\n",
    "# Load raw data\n",
    "df = pd.read_csv(DATA_DIR / \"raw_simulated_smoking_cessation_cohort.csv\")\n",
    "print(f\"Loaded {df.shape[0]} rows.\")"
   ]
  },
  {
   "cell_type": "code",
   "execution_count": null,
   "id": "0ec4d1c0-18c5-4666-a9ca-a24476d95049",
   "metadata": {},
   "outputs": [],
   "source": [
    "# ----------------------------------------------------------------------------\n",
    "# Data cleaning \n",
    "# ----------------------------------------------------------------------------\n",
    "# Drop records with implausible ages\n",
    "df = df[df[\"age\"].between(18, 90)]\n",
    "print(f\"Remaining after age filter: {df.shape[0]}\")\n",
    "\n",
    "# --- Encode variables ---\n",
    "# Binary encoding for sex\n",
    "df[\"sex_female\"] = (df[\"sex\"] == \"Female\").astype(int)\n",
    "\n",
    "# Ordinal education encoding\n",
    "education_order = {\n",
    "    \"<HS\": 0,\n",
    "    \"HS Grad\": 1,\n",
    "    \"Some College\": 2,\n",
    "    \"Associate\": 3,\n",
    "    \"Bachelor\": 4,\n",
    "    \"Graduate\": 5\n",
    "}\n",
    "df[\"education_code\"] = df[\"education\"].map(education_order)\n",
    "\n",
    "# Income encoding\n",
    "income_order = {\n",
    "    \"<25k\": 0,\n",
    "    \"25k-49k\": 1,\n",
    "    \"50k-74k\": 2,\n",
    "    \"75k-99k\": 3,\n",
    "    \"100k+\": 4\n",
    "}\n",
    "df[\"income_code\"] = df[\"income\"].map(income_order)\n"
   ]
  },
  {
   "cell_type": "code",
   "execution_count": null,
   "id": "60b1ddb6-ecdf-4bc4-be66-de91f18810af",
   "metadata": {},
   "outputs": [],
   "source": [
    "# Race/ethnicity one-hot encoding \n",
    "race_dummies = pd.get_dummies(df[\"race_ethnicity\"], prefix=\"race\")\n",
    "df = pd.concat([df, race_dummies], axis=1)\n",
    "# ----------------------------------------------------------------------------\n",
    "# Simulate smoking baseline status \n",
    "# ----------------------------------------------------------------------------\n",
    "# ~20% of general US adults smoke (adjust if needed)\n",
    "df[\"baseline_smoker\"] = np.random.binomial(n=1, p=0.2, size=df.shape[0])\n",
    "# ----------------------------------------------------------------------------\n",
    "# Simulate intervention group \n",
    "# ----------------------------------------------------------------------------\n",
    "# Randomly assign half to a smoking cessation program\n",
    "df[\"intervention_group\"] = np.random.choice([\"Usual Care\", \"Cessation Program\"], size=df.shape[0], p=[0.5, 0.5])\n"
   ]
  },
  {
   "cell_type": "code",
   "execution_count": 2,
   "id": "ad4b9307-1285-4c29-8b51-8f8c15a3f6cd",
   "metadata": {},
   "outputs": [
    {
     "name": "stdout",
     "output_type": "stream",
     "text": [
      "Saved cleaned dataset to: C:\\Users\\hayde\\Desktop\\simulated-smoking-cessation-cohort\\data\\processed_simulated_smoking_cessation_cohort.csv\n"
     ]
    }
   ],
   "source": [
    "# ----------------------------------------------------------------------------\n",
    "# Save processed data\n",
    "# ----------------------------------------------------------------------------\n",
    "output_path = DATA_DIR / \"processed_simulated_smoking_cessation_cohort.csv\"\n",
    "df.to_csv(output_path, index=False)\n",
    "print(f\"Saved cleaned dataset to: {output_path}\")"
   ]
  },
  {
   "cell_type": "code",
   "execution_count": null,
   "id": "199c4f17-b136-46f6-8861-41f85f31b13b",
   "metadata": {},
   "outputs": [],
   "source": []
  }
 ],
 "metadata": {
  "kernelspec": {
   "display_name": "Python [conda env:base] *",
   "language": "python",
   "name": "conda-base-py"
  },
  "language_info": {
   "codemirror_mode": {
    "name": "ipython",
    "version": 3
   },
   "file_extension": ".py",
   "mimetype": "text/x-python",
   "name": "python",
   "nbconvert_exporter": "python",
   "pygments_lexer": "ipython3",
   "version": "3.12.3"
  }
 },
 "nbformat": 4,
 "nbformat_minor": 5
}
