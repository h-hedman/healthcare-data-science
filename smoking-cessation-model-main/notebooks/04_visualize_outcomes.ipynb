{
 "cells": [
  {
   "cell_type": "code",
   "execution_count": 12,
   "id": "69296684-b1c7-4217-ad0e-50c285e03cd1",
   "metadata": {},
   "outputs": [
    {
     "name": "stdout",
     "output_type": "stream",
     "text": [
      "✅ Saved boxplot to: C:\\Users\\hayde\\Desktop\\simulated-smoking-cessation-cohort\\figures\\age_by_education_boxplot.png\n"
     ]
    }
   ],
   "source": [
    "import pandas as pd\n",
    "import matplotlib.pyplot as plt\n",
    "import seaborn as sns\n",
    "from pathlib import Path\n",
    "\n",
    "# --- Dynamically resolve paths ---\n",
    "CURRENT_DIR = Path().resolve()\n",
    "ROOT_DIR = CURRENT_DIR.parent if CURRENT_DIR.name == \"notebooks\" else CURRENT_DIR\n",
    "DATA_DIR = ROOT_DIR / \"data\"\n",
    "FIGURE_DIR = ROOT_DIR / \"figures\"\n",
    "FIGURE_DIR.mkdir(parents=True, exist_ok=True)\n",
    "\n",
    "# --- Load the processed dataset ---\n",
    "df = pd.read_csv(DATA_DIR / \"processed_simulated_smoking_cessation_cohort.csv\")\n",
    "\n",
    "# --- Set categorical order for education ---\n",
    "education_order = [\"<HS\", \"HS Grad\", \"Some College\", \"Associate\", \"Bachelor\", \"Graduate\"]\n",
    "df[\"education\"] = pd.Categorical(df[\"education\"], categories=education_order, ordered=True)\n",
    "\n",
    "# --- Initialize the plot ---\n",
    "plt.figure(figsize=(10, 6))\n",
    "sns.set(style=\"whitegrid\")\n",
    "\n",
    "# --- Create boxplot ---\n",
    "ax = sns.boxplot(x=\"education\", y=\"age\", hue=\"education\", data=df, legend=False, palette=\"viridis\")\n",
    "\n",
    "# --- Annotate median values on each box ---\n",
    "for i, level in enumerate(education_order):\n",
    "    median = df[df[\"education\"] == level][\"age\"].median()\n",
    "    ax.text(i, median, f\"{median:.1f}\", ha='center', va='center', color='black', fontsize=10, fontweight='bold')\n",
    "\n",
    "# --- Format plot ---\n",
    "plt.title(\"Age Distribution by Education\", fontsize=14)\n",
    "plt.xlabel(\"Education\", fontsize=12)\n",
    "plt.ylabel(\"Age\", fontsize=12)\n",
    "plt.xticks(rotation=0)\n",
    "plt.tight_layout()\n",
    "\n",
    "# --- Save the figure ---\n",
    "plot_path = FIGURE_DIR / \"age_by_education_boxplot.png\"\n",
    "plt.savefig(plot_path, dpi=300, bbox_inches=\"tight\")\n",
    "plt.close()\n",
    "\n",
    "print(f\"✅ Saved boxplot to: {plot_path}\")\n"
   ]
  }
 ],
 "metadata": {
  "kernelspec": {
   "display_name": "Python [conda env:base] *",
   "language": "python",
   "name": "conda-base-py"
  },
  "language_info": {
   "codemirror_mode": {
    "name": "ipython",
    "version": 3
   },
   "file_extension": ".py",
   "mimetype": "text/x-python",
   "name": "python",
   "nbconvert_exporter": "python",
   "pygments_lexer": "ipython3",
   "version": "3.12.3"
  }
 },
 "nbformat": 4,
 "nbformat_minor": 5
}
