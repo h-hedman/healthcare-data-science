{
 "cells": [
  {
   "cell_type": "code",
   "execution_count": 6,
   "id": "cb913959-6365-467a-ad90-88216bdbf2a8",
   "metadata": {},
   "outputs": [],
   "source": [
    "# Simulated Smoking Cessation Cohort\n",
    "# Author: Hayden Hedman\n",
    "# Project: simulated-smoking-cessation-cohort\n",
    "# Description: Generate a synthetic dataset simulating retrospective smoking cessation behavior\n",
    "# Data based on Data distributions informed by Leventhal et al. (2022), *JNCI*, 114(3), 381–390. doi: 10.1093/jnci/djab208\n",
    "# --------------------------------------------------------------------------------------------------------------------------------\n",
    "# load libraries\n",
    "import os\n",
    "import pandas as pd\n",
    "import numpy as np\n",
    "from pathlib import Path"
   ]
  },
  {
   "cell_type": "code",
   "execution_count": 12,
   "id": "008efafa-3457-46e0-be79-7c2e028703cc",
   "metadata": {},
   "outputs": [],
   "source": [
    "# set random seed\n",
    "np.random.seed(64)\n",
    "\n",
    "# Notebook-safe directory setup\n",
    "ROOT = Path().resolve().parent  # Use current notebook's parent folder\n",
    "DATA_DIR = ROOT / \"data\"\n",
    "DATA_DIR.mkdir(parents=True, exist_ok=True)\n",
    "\n",
    "n = 10_000\n",
    "\n",
    "# Covariates\n",
    "education_dist = {\n",
    "    \"<HS\": 0.154,\n",
    "    \"HS Grad\": 0.38,\n",
    "    \"Some College\": 0.22,\n",
    "    \"Associate\": 0.105,\n",
    "    \"Bachelor\": 0.106,\n",
    "    \"Graduate\": 0.034\n",
    "}\n",
    "\n",
    "income_dist = {\n",
    "    \"<25k\": 0.255,\n",
    "    \"25k-49k\": 0.356,\n",
    "    \"50k-74k\": 0.179,\n",
    "    \"75k-99k\": 0.093,\n",
    "    \"100k+\": 0.117\n",
    "}\n",
    "\n",
    "disability_dist = {\n",
    "    \"No\": 0.812,\n",
    "    \"Yes\": 0.188\n",
    "}\n",
    "\n",
    "employment_dist = {\n",
    "    \"Full-time\": 0.496,\n",
    "    \"Part-time\": 0.104,\n",
    "    \"Unemployed\": 0.059,\n",
    "    \"Not in workforce\": 0.342\n",
    "}\n",
    "\n",
    "metro_dist = {\n",
    "    \"Yes\": 0.805,\n",
    "    \"No\": 0.195\n",
    "}"
   ]
  },
  {
   "cell_type": "code",
   "execution_count": 14,
   "id": "9d360cce-c547-4c66-9c4d-4ed971bca77b",
   "metadata": {},
   "outputs": [],
   "source": [
    "def sample_from_distribution(distribution, size):\n",
    "    categories = list(distribution.keys())\n",
    "    probs = np.array(list(distribution.values()))\n",
    "    probs = probs / probs.sum()  # Normalize to ensure sum == 1.0\n",
    "    return np.random.choice(categories, size=size, p=probs)\n",
    "\n",
    "df = pd.DataFrame({\n",
    "    \"id\": np.arange(1, n + 1),\n",
    "    \"education\": sample_from_distribution(education_dist, n),\n",
    "    \"income\": sample_from_distribution(income_dist, n),\n",
    "    \"disability\": sample_from_distribution(disability_dist, n),\n",
    "    \"employment\": sample_from_distribution(employment_dist, n),\n",
    "    \"metro\": sample_from_distribution(metro_dist, n),\n",
    "    \"age\": np.random.normal(loc=45, scale=13, size=n).round(0).astype(int),\n",
    "    \"sex\": np.random.choice([\"Male\", \"Female\"], size=n, p=[0.5, 0.5]),\n",
    "    \"race_ethnicity\": np.random.choice([\"White\", \"Black\", \"Hispanic\", \"Other\"], size=n, p=[0.6, 0.15, 0.15, 0.1])\n",
    "})"
   ]
  },
  {
   "cell_type": "code",
   "execution_count": 15,
   "id": "321cbf3e-a650-4ab5-a5f1-bf2ca8156093",
   "metadata": {},
   "outputs": [
    {
     "name": "stdout",
     "output_type": "stream",
     "text": [
      "Confimed simulated processeddataset to: C:\\Users\\hayde\\Desktop\\simulated-smoking-cessation-cohort\\data\\raw_simulated_smoking_cessation_cohort.csv\n"
     ]
    }
   ],
   "source": [
    "output_path = DATA_DIR / \"raw_simulated_smoking_cessation_cohort.csv\"\n",
    "df.to_csv(output_path, index=False)\n",
    "print(f\"Confimed simulated processeddataset to: {output_path}\")"
   ]
  }
 ],
 "metadata": {
  "kernelspec": {
   "display_name": "Python [conda env:base] *",
   "language": "python",
   "name": "conda-base-py"
  },
  "language_info": {
   "codemirror_mode": {
    "name": "ipython",
    "version": 3
   },
   "file_extension": ".py",
   "mimetype": "text/x-python",
   "name": "python",
   "nbconvert_exporter": "python",
   "pygments_lexer": "ipython3",
   "version": "3.12.3"
  }
 },
 "nbformat": 4,
 "nbformat_minor": 5
}
